{
 "cells": [
  {
   "cell_type": "markdown",
   "id": "afad0155-bb2c-4222-b67c-743794f45cb0",
   "metadata": {},
   "source": [
    "Q1. What is the purpose of grid search cv in machine learning, and how does it work?"
   ]
  },
  {
   "cell_type": "markdown",
   "id": "6ac000d7-0c32-4231-a183-21d97febe48f",
   "metadata": {},
   "source": [
    "GridSearchCV is a technique for finding the optimal parameter values from a given set of parameters in a grid\n",
    "\n",
    "how does it work\n",
    "\n",
    "In the GridSearchCV we put some values in it like \n",
    "- Hyperparameter Space\n",
    "- Cross-Validation \n",
    "- Hyperparameter Combinations\n",
    "- Model Training and Evaluation\n",
    "\n",
    "__and than this give the result__"
   ]
  },
  {
   "cell_type": "markdown",
   "id": "b43fe0ec-f9cd-4171-9e78-5b523a73438e",
   "metadata": {},
   "source": [
    "Q2. Describe the difference between grid search cv and randomize search cv, and when might you choose\n",
    "one over the other?"
   ]
  },
  {
   "cell_type": "markdown",
   "id": "ac3a9eec-fa12-4b71-84ef-a0ae234be66e",
   "metadata": {},
   "source": [
    "There is a key difference between grid search cv and randomize search cv , in random search, not all the values are tested and values tested are selected at random"
   ]
  },
  {
   "cell_type": "markdown",
   "id": "4a9835a1-e567-48b1-ac56-e010f616d43e",
   "metadata": {},
   "source": [
    "Q3. What is data leakage, and why is it a problem in machine learning? Provide an example."
   ]
  },
  {
   "cell_type": "markdown",
   "id": "613d582b-ae3c-4b4a-8dde-2fdd2dbba0fb",
   "metadata": {},
   "source": [
    "We don't give any information of training dataset to test we have to keep the training dataset away from the test for protect the  performance of the model , if the data of traning dataset gave to test than the performance of the model will we very bad , and this called data leakage.\n",
    " \n",
    "EXAMPLE - \"future default\" variable in the model would introduce data leakage."
   ]
  },
  {
   "cell_type": "markdown",
   "id": "1dbac26f-36e4-4c3f-b7d4-e655ba72e078",
   "metadata": {},
   "source": [
    "Q4. How can you prevent data leakage when building a machine learning model?"
   ]
  },
  {
   "cell_type": "markdown",
   "id": "5fc01200-2f5b-4b9f-b6fa-91fd0c278095",
   "metadata": {},
   "source": [
    "By Maintain a strict temporal order , Feature engineering , Careful preprocessing , Cross-validation techniques , Feature selection and model evaluation , Validate on an independent test set "
   ]
  },
  {
   "cell_type": "markdown",
   "id": "6b6d17b2-659a-432c-bf75-f0b922d9ab3d",
   "metadata": {},
   "source": [
    "Q5. What is a confusion matrix, and what does it tell you about the performance of a classification model?"
   ]
  },
  {
   "cell_type": "markdown",
   "id": "0ce59eff-04cc-453c-85ba-52d78be09b4e",
   "metadata": {},
   "source": [
    "A confusion matrix is a table that is used to define the performance of a classification algorithm. confusion matrix tell us about the visualizes and summarizes the performance of a classification algorithm."
   ]
  },
  {
   "cell_type": "markdown",
   "id": "cef937b3-e160-4b6e-87a9-a8a50e0105b0",
   "metadata": {},
   "source": [
    "Q6. Explain the difference between precision and recall in the context of a confusion matrix."
   ]
  },
  {
   "cell_type": "markdown",
   "id": "54fedff1-6f91-4161-95aa-6f2742af1053",
   "metadata": {},
   "source": [
    "Precision (also called positive predictive value) is the fraction of relevant instances among the retrieved instances, while recall (also known as sensitivity) is the fraction of relevant instances that were retrieved. Both precision and recall are therefore based on relevance."
   ]
  },
  {
   "cell_type": "markdown",
   "id": "bc2fdc05-3afd-4214-87f2-0d3507105280",
   "metadata": {},
   "source": [
    "Q7. How can you interpret a confusion matrix to determine which types of errors your model is making?"
   ]
  },
  {
   "cell_type": "markdown",
   "id": "ffe0a432-55a0-4849-afc7-8859261cbd28",
   "metadata": {},
   "source": [
    "Let's consider a binary classification problem with two classes: \"Positive\" and \"Negative.\" "
   ]
  },
  {
   "cell_type": "markdown",
   "id": "e4e95d63-afaf-459d-8e1a-4981ba028e9e",
   "metadata": {},
   "source": [
    "In the confusion matrix there is a '4' types of output TP , FP , TN , FN"
   ]
  },
  {
   "cell_type": "markdown",
   "id": "57f85806-fb58-4697-98d7-794c054bcbdb",
   "metadata": {},
   "source": [
    "             ---------------------------------------------------------------\n",
    "             -                             -                               -\n",
    "             -                             -                               -\n",
    "             -      TRUE POSITIVE(TP)      -       FALSE POSITIVE(FP)      -\n",
    "             -                             -                               -\n",
    "             -                             -                               -\n",
    "             -                             -                               -\n",
    "             ---------------------------------------------------------------\n",
    "             -                             -                               -\n",
    "             -                             -                               -\n",
    "             -                             -                               -\n",
    "             -      FALSE NEGATIVE(FN)     -       TRUE NEGATIVE(TN)       -\n",
    "             -                             -                               -\n",
    "             -                             -                               -\n",
    "             ---------------------------------------------------------------"
   ]
  },
  {
   "cell_type": "markdown",
   "id": "b3cf2391-9b92-45dd-bcaa-fe7194556a30",
   "metadata": {},
   "source": [
    "- If there is nubemer of TP is high than we say that our model is correct pridected as positive.\n",
    "- If there is nubemer of TN is high than we say that our model is correct pridected as negitive.\n",
    "- If there is nubemer of FP is high than we say that our model is incorrect pridect as positive.\n",
    "- If there is nubemer of FN is high than we say that our model is incorrect pridect as nagitive."
   ]
  },
  {
   "cell_type": "markdown",
   "id": "b0436208-1b45-43b2-b51b-8c01df440b03",
   "metadata": {},
   "source": [
    "Q8. What are some common metrics that can be derived from a confusion matrix, and how are they\n",
    "calculated?"
   ]
  },
  {
   "cell_type": "markdown",
   "id": "457f9f6d-782d-4680-9ad9-683049cfbae4",
   "metadata": {},
   "source": [
    "there is many type of common metrics that can be derived from a confusion matrix these are some example : \n",
    "- Accuracy = (TP + TN) / (TP + TN + FP + FN)\n",
    "- Precision = TP / (TP + FP)\n",
    "- Recall = TP / (TP + FN)\n",
    "- F1 Score = 2 * (Precision * Recall) / (Precision + Recall)"
   ]
  },
  {
   "cell_type": "markdown",
   "id": "b460065f-2f90-4b2b-b0c6-97e5ef02989b",
   "metadata": {},
   "source": [
    "Q9. What is the relationship between the accuracy of a model and the values in its confusion matrix?"
   ]
  },
  {
   "cell_type": "markdown",
   "id": "0e9e4d99-f87c-4813-9723-c2fc8ed2846d",
   "metadata": {},
   "source": [
    "Accuracy of model and value in its confusion matrix is highly related to each other because if TP , TN , FP , FN values are not defined than how we find accuracy because in the formula of accuracy these are values is used ,\n",
    "\n",
    "- Accuracy = (TP + TN) / (TP + TN + FP + FN)\n",
    "\n",
    "and TP , TN , FP , FN are generated by confusion matrix."
   ]
  },
  {
   "cell_type": "markdown",
   "id": "2d0b587c-ecee-4d0d-9930-7839604d7a0b",
   "metadata": {},
   "source": [
    "Q10. How can you use a confusion matrix to identify potential biases or limitations in your machine learning\n",
    "model?"
   ]
  },
  {
   "cell_type": "markdown",
   "id": "fd1f4695-ef2e-40e8-9285-c63c9e6a4ea0",
   "metadata": {},
   "source": [
    "by using Class Imbalance , False Positive and False Negative Rates , Confusion between Similar Classes , Domain-Specific Knowledge "
   ]
  }
 ],
 "metadata": {
  "kernelspec": {
   "display_name": "Python 3 (ipykernel)",
   "language": "python",
   "name": "python3"
  },
  "language_info": {
   "codemirror_mode": {
    "name": "ipython",
    "version": 3
   },
   "file_extension": ".py",
   "mimetype": "text/x-python",
   "name": "python",
   "nbconvert_exporter": "python",
   "pygments_lexer": "ipython3",
   "version": "3.10.8"
  }
 },
 "nbformat": 4,
 "nbformat_minor": 5
}
